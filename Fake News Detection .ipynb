{
 "cells": [
  {
   "cell_type": "markdown",
   "id": "809019ae",
   "metadata": {},
   "source": [
    "### Fake News Detection using Text Mining + ML"
   ]
  },
  {
   "cell_type": "markdown",
   "id": "c1139082",
   "metadata": {},
   "source": [
    "### Import Libraries & Load the Data"
   ]
  },
  {
   "cell_type": "code",
   "execution_count": 13,
   "id": "586d1892",
   "metadata": {},
   "outputs": [
    {
     "name": "stdout",
     "output_type": "stream",
     "text": [
      "                                               title  \\\n",
      "0  Ben Stein Calls Out 9th Circuit Court: Committ...   \n",
      "1  Trump drops Steve Bannon from National Securit...   \n",
      "2  Puerto Rico expects U.S. to lift Jones Act shi...   \n",
      "3   OOPS: Trump Just Accidentally Confirmed He Le...   \n",
      "4  Donald Trump heads for Scotland to reopen a go...   \n",
      "\n",
      "                                                text       subject  \\\n",
      "0  21st Century Wire says Ben Stein, reputable pr...       US_News   \n",
      "1  WASHINGTON (Reuters) - U.S. President Donald T...  politicsNews   \n",
      "2  (Reuters) - Puerto Rico Governor Ricardo Rosse...  politicsNews   \n",
      "3  On Monday, Donald Trump once again embarrassed...          News   \n",
      "4  GLASGOW, Scotland (Reuters) - Most U.S. presid...  politicsNews   \n",
      "\n",
      "                  date  label  \n",
      "0    February 13, 2017      1  \n",
      "1       April 5, 2017       0  \n",
      "2  September 27, 2017       0  \n",
      "3         May 22, 2017      1  \n",
      "4       June 24, 2016       0  \n"
     ]
    }
   ],
   "source": [
    "import pandas as pd\n",
    "\n",
    "# Load both datasets\n",
    "fake_df = pd.read_csv('Fake.csv')\n",
    "true_df = pd.read_csv('True.csv')\n",
    "\n",
    "# Add labels manually\n",
    "fake_df['label'] = 1  # 1 for Fake\n",
    "true_df['label'] = 0  # 0 for Real\n",
    "\n",
    "# Combine the datasets\n",
    "df = pd.concat([fake_df, true_df], ignore_index=True)\n",
    "\n",
    "# Shuffle the dataset (important for model training)\n",
    "df = df.sample(frac=1, random_state=42).reset_index(drop=True)\n",
    "\n",
    "print(df.head())\n"
   ]
  },
  {
   "cell_type": "code",
   "execution_count": 14,
   "id": "14f6cf7d",
   "metadata": {},
   "outputs": [
    {
     "name": "stdout",
     "output_type": "stream",
     "text": [
      "\n",
      "Row 1\n",
      "Title   : Ben Stein Calls Out 9th Circuit Court: Committed a ‘Coup d’état’ Against the Constitution\n",
      "Text    : 21st Century Wire says Ben Stein, reputable professor from, Pepperdine University (also of some Holl...\n",
      "Subject : US_News\n",
      "Date    : February 13, 2017\n",
      "Label   : Fake\n",
      "\n",
      "Row 2\n",
      "Title   : Trump drops Steve Bannon from National Security Council\n",
      "Text    : WASHINGTON (Reuters) - U.S. President Donald Trump removed his chief strategist Steve Bannon from th...\n",
      "Subject : politicsNews\n",
      "Date    : April 5, 2017 \n",
      "Label   : Real\n",
      "\n",
      "Row 3\n",
      "Title   : Puerto Rico expects U.S. to lift Jones Act shipping restrictions\n",
      "Text    : (Reuters) - Puerto Rico Governor Ricardo Rossello said on Wednesday he expected the federal governme...\n",
      "Subject : politicsNews\n",
      "Date    : September 27, 2017 \n",
      "Label   : Real\n",
      "\n",
      "Row 4\n",
      "Title   :  OOPS: Trump Just Accidentally Confirmed He Leaked Israeli Intelligence To Russia (VIDEO)\n",
      "Text    : On Monday, Donald Trump once again embarrassed himself and his country by accidentally revealing the...\n",
      "Subject : News\n",
      "Date    : May 22, 2017\n",
      "Label   : Fake\n",
      "\n",
      "Row 5\n",
      "Title   : Donald Trump heads for Scotland to reopen a golf resort\n",
      "Text    : GLASGOW, Scotland (Reuters) - Most U.S. presidential candidates go abroad to sharpen their foreign p...\n",
      "Subject : politicsNews\n",
      "Date    : June 24, 2016 \n",
      "Label   : Real\n"
     ]
    }
   ],
   "source": [
    "for index, row in df.head().iterrows():\n",
    "    print(f\"\\nRow {index + 1}\")\n",
    "    print(f\"Title   : {row['title']}\")\n",
    "    print(f\"Text    : {row['text'][:100]}...\")  # Limiting long text for readability\n",
    "    print(f\"Subject : {row['subject']}\")\n",
    "    print(f\"Date    : {row['date']}\")\n",
    "    print(f\"Label   : {'Fake' if row['label'] == 1 else 'Real'}\")"
   ]
  },
  {
   "cell_type": "markdown",
   "id": "df8fa760",
   "metadata": {},
   "source": [
    "### Basic Cleaning & Preprocessing"
   ]
  },
  {
   "cell_type": "code",
   "execution_count": 2,
   "id": "3f825cfe",
   "metadata": {},
   "outputs": [],
   "source": [
    "# Fill any missing values (if any)\n",
    "df['text'] = df['text'].fillna('')\n",
    "\n",
    "# Combine title + text to get full content\n",
    "df['content'] = df['title'] + \" \" + df['text']\n",
    "\n",
    "# Final data for modeling\n",
    "X = df['content']\n",
    "y = df['label']\n"
   ]
  },
  {
   "cell_type": "markdown",
   "id": "57a90be1",
   "metadata": {},
   "source": [
    "### Text Vectorization (TF-IDF)\n",
    "\n"
   ]
  },
  {
   "cell_type": "code",
   "execution_count": 3,
   "id": "768cf910",
   "metadata": {},
   "outputs": [],
   "source": [
    "from sklearn.feature_extraction.text import TfidfVectorizer\n",
    "\n",
    "# Create the vectorizer\n",
    "vectorizer = TfidfVectorizer(stop_words='english', max_df=0.7)\n",
    "\n",
    "# Transform the text\n",
    "X_vectorized = vectorizer.fit_transform(X)\n"
   ]
  },
  {
   "cell_type": "markdown",
   "id": "9fe36bad",
   "metadata": {},
   "source": [
    "### Train-Test Split"
   ]
  },
  {
   "cell_type": "code",
   "execution_count": 4,
   "id": "d794bf2d",
   "metadata": {},
   "outputs": [],
   "source": [
    "from sklearn.model_selection import train_test_split\n",
    "\n",
    "X_train, X_test, y_train, y_test = train_test_split(X_vectorized, y, test_size=0.2, random_state=42)\n"
   ]
  },
  {
   "cell_type": "markdown",
   "id": "709d0a75",
   "metadata": {},
   "source": [
    "### Model Training (Logistic Regression First)\n",
    "\n"
   ]
  },
  {
   "cell_type": "code",
   "execution_count": 5,
   "id": "e94fdab3",
   "metadata": {},
   "outputs": [
    {
     "name": "stdout",
     "output_type": "stream",
     "text": [
      "Accuracy: 0.984521158129176\n",
      "              precision    recall  f1-score   support\n",
      "\n",
      "           0       0.98      0.99      0.98      4270\n",
      "           1       0.99      0.98      0.99      4710\n",
      "\n",
      "    accuracy                           0.98      8980\n",
      "   macro avg       0.98      0.98      0.98      8980\n",
      "weighted avg       0.98      0.98      0.98      8980\n",
      "\n"
     ]
    }
   ],
   "source": [
    "from sklearn.linear_model import LogisticRegression\n",
    "from sklearn.metrics import accuracy_score, classification_report\n",
    "\n",
    "# Train the model\n",
    "model = LogisticRegression()\n",
    "model.fit(X_train, y_train)\n",
    "\n",
    "# Predict\n",
    "y_pred = model.predict(X_test)\n",
    "\n",
    "# Evaluate\n",
    "print(\"Accuracy:\", accuracy_score(y_test, y_pred))\n",
    "print(classification_report(y_test, y_pred))\n"
   ]
  },
  {
   "cell_type": "markdown",
   "id": "290ad69b",
   "metadata": {},
   "source": [
    "### Add a Function to Predict Custom News Input"
   ]
  },
  {
   "cell_type": "code",
   "execution_count": 6,
   "id": "970b06f5",
   "metadata": {},
   "outputs": [],
   "source": [
    "# Function to check if a given news text is fake or real\n",
    "def check_news(news_text):\n",
    "    # Transform the text using the same TF-IDF vectorizer\n",
    "    text_vector = vectorizer.transform([news_text])\n",
    "    \n",
    "    # Make prediction\n",
    "    prediction = model.predict(text_vector)[0]\n",
    "\n",
    "    # Display result\n",
    "    if prediction == 1:\n",
    "        print(\"🟥 This news is likely FAKE.\")\n",
    "    else:\n",
    "        print(\"🟩 This news is likely REAL.\")\n"
   ]
  },
  {
   "cell_type": "markdown",
   "id": "667d86c2",
   "metadata": {},
   "source": [
    "### Try It with a Sample:"
   ]
  },
  {
   "cell_type": "code",
   "execution_count": 7,
   "id": "27a672db",
   "metadata": {},
   "outputs": [
    {
     "name": "stdout",
     "output_type": "stream",
     "text": [
      "🟩 This news is likely REAL.\n"
     ]
    }
   ],
   "source": [
    "sample_news = \"\"\"\n",
    "World Leaders Announce New Climate Agreement to Cut Emissions by 50% Before 2030.\n",
    "The United Nations praised the decision, citing it as a major step forward in the fight against climate change.\n",
    "\"\"\"\n",
    "\n",
    "check_news(sample_news)\n"
   ]
  },
  {
   "cell_type": "markdown",
   "id": "eb4f7ee9",
   "metadata": {},
   "source": [
    "### Let the User Input News Manually"
   ]
  },
  {
   "cell_type": "code",
   "execution_count": 9,
   "id": "4205952c",
   "metadata": {},
   "outputs": [
    {
     "name": "stdout",
     "output_type": "stream",
     "text": [
      "Paste the news headline or article here:\n",
      "customer segmentation books using data mining\n",
      "🟥 This news is likely FAKE.\n"
     ]
    }
   ],
   "source": [
    "user_input = input(\"Paste the news headline or article here:\\n\")\n",
    "check_news(user_input)\n"
   ]
  },
  {
   "cell_type": "code",
   "execution_count": 11,
   "id": "f155a84b",
   "metadata": {},
   "outputs": [
    {
     "name": "stdout",
     "output_type": "stream",
     "text": [
      "🟩 This news is likely REAL.\n"
     ]
    }
   ],
   "source": [
    "sample_news = \"\"\" The International Monetary Fund has approved a $182 million financing package to support Rwanda's economic development\"\"\"\n",
    "\n",
    "check_news(sample_news)"
   ]
  },
  {
   "cell_type": "code",
   "execution_count": 12,
   "id": "2a112f71",
   "metadata": {},
   "outputs": [],
   "source": [
    "import pickle\n",
    "\n",
    "# Save model and vectorizer\n",
    "pickle.dump(model, open(\"model.pkl\", \"wb\"))\n",
    "pickle.dump(vectorizer, open(\"vectorizer.pkl\", \"wb\"))"
   ]
  },
  {
   "cell_type": "code",
   "execution_count": null,
   "id": "d9c67a08",
   "metadata": {},
   "outputs": [],
   "source": []
  }
 ],
 "metadata": {
  "kernelspec": {
   "display_name": "Python 3 (ipykernel)",
   "language": "python",
   "name": "python3"
  },
  "language_info": {
   "codemirror_mode": {
    "name": "ipython",
    "version": 3
   },
   "file_extension": ".py",
   "mimetype": "text/x-python",
   "name": "python",
   "nbconvert_exporter": "python",
   "pygments_lexer": "ipython3",
   "version": "3.11.5"
  }
 },
 "nbformat": 4,
 "nbformat_minor": 5
}
