{
 "cells": [
  {
   "cell_type": "markdown",
   "id": "98956368",
   "metadata": {},
   "source": [
    "## Classification and prediction"
   ]
  },
  {
   "cell_type": "code",
   "execution_count": 80,
   "id": "e5a94cc1",
   "metadata": {},
   "outputs": [
    {
     "name": "stdout",
     "output_type": "stream",
     "text": [
      "   user_id  age  annual_income  purchase_amount  loyalty_score region  \\\n",
      "0        1   25          45000              200            4.5  North   \n",
      "1        2   34          55000              350            7.0  South   \n",
      "2        3   45          65000              500            8.0   West   \n",
      "3        4   22          30000              150            3.0   East   \n",
      "4        5   29          47000              220            4.8  North   \n",
      "\n",
      "   purchase_frequency  \n",
      "0                  12  \n",
      "1                  18  \n",
      "2                  22  \n",
      "3                  10  \n",
      "4                  13  \n"
     ]
    }
   ],
   "source": [
    "import pandas as pd\n",
    "\n",
    "# Specify the path to your downloaded CSV file\n",
    "file_path = 'Customer Purchasing Behaviors.csv'\n",
    "\n",
    "# Load the dataset\n",
    "df = pd.read_csv(file_path)\n",
    "\n",
    "# Display the first few rows of the dataset\n",
    "print(df.head())"
   ]
  },
  {
   "cell_type": "code",
   "execution_count": null,
   "id": "59ba742f",
   "metadata": {},
   "outputs": [],
   "source": []
  },
  {
   "cell_type": "markdown",
   "id": "acafd2cf",
   "metadata": {},
   "source": [
    "#### check the missing values"
   ]
  },
  {
   "cell_type": "code",
   "execution_count": 55,
   "id": "d39bc64b",
   "metadata": {},
   "outputs": [
    {
     "name": "stdout",
     "output_type": "stream",
     "text": [
      "user_id               0\n",
      "age                   0\n",
      "annual_income         0\n",
      "purchase_amount       0\n",
      "loyalty_score         0\n",
      "region                0\n",
      "purchase_frequency    0\n",
      "dtype: int64\n"
     ]
    }
   ],
   "source": [
    "print(df.isnull().sum())  # Displays the count of missing values for each column\n"
   ]
  },
  {
   "cell_type": "markdown",
   "id": "ea99b420",
   "metadata": {},
   "source": [
    "### check the datat types"
   ]
  },
  {
   "cell_type": "code",
   "execution_count": 56,
   "id": "79b71b78",
   "metadata": {},
   "outputs": [
    {
     "name": "stdout",
     "output_type": "stream",
     "text": [
      "<class 'pandas.core.frame.DataFrame'>\n",
      "RangeIndex: 238 entries, 0 to 237\n",
      "Data columns (total 7 columns):\n",
      " #   Column              Non-Null Count  Dtype  \n",
      "---  ------              --------------  -----  \n",
      " 0   user_id             238 non-null    int64  \n",
      " 1   age                 238 non-null    int64  \n",
      " 2   annual_income       238 non-null    int64  \n",
      " 3   purchase_amount     238 non-null    int64  \n",
      " 4   loyalty_score       238 non-null    float64\n",
      " 5   region              238 non-null    object \n",
      " 6   purchase_frequency  238 non-null    int64  \n",
      "dtypes: float64(1), int64(5), object(1)\n",
      "memory usage: 13.1+ KB\n",
      "None\n"
     ]
    }
   ],
   "source": [
    "print(df.info())  # Gives you information about the data types and null values"
   ]
  },
  {
   "cell_type": "code",
   "execution_count": 57,
   "id": "da8379a7",
   "metadata": {},
   "outputs": [
    {
     "data": {
      "text/plain": [
       "user_id                 int64\n",
       "age                     int64\n",
       "annual_income           int64\n",
       "purchase_amount         int64\n",
       "loyalty_score         float64\n",
       "region                 object\n",
       "purchase_frequency      int64\n",
       "dtype: object"
      ]
     },
     "execution_count": 57,
     "metadata": {},
     "output_type": "execute_result"
    }
   ],
   "source": [
    "df.dtypes"
   ]
  },
  {
   "cell_type": "markdown",
   "id": "412514f4",
   "metadata": {},
   "source": [
    "#### check the duplicates"
   ]
  },
  {
   "cell_type": "code",
   "execution_count": 58,
   "id": "a3e8c099",
   "metadata": {},
   "outputs": [
    {
     "name": "stdout",
     "output_type": "stream",
     "text": [
      "0\n"
     ]
    }
   ],
   "source": [
    "print(df.duplicated().sum())"
   ]
  },
  {
   "cell_type": "markdown",
   "id": "874322f4",
   "metadata": {},
   "source": [
    "#### Building the model"
   ]
  },
  {
   "cell_type": "markdown",
   "id": "af48ce57",
   "metadata": {},
   "source": [
    "#### Random Forest for Classification:"
   ]
  },
  {
   "cell_type": "code",
   "execution_count": 59,
   "id": "93c5c3ef",
   "metadata": {},
   "outputs": [],
   "source": [
    "from sklearn.model_selection import train_test_split\n",
    "from sklearn.ensemble import RandomForestClassifier\n",
    "from sklearn.metrics import classification_report, accuracy_score"
   ]
  },
  {
   "cell_type": "markdown",
   "id": "b8b79c79",
   "metadata": {},
   "source": [
    " #### creating a new column called purchase_made"
   ]
  },
  {
   "cell_type": "code",
   "execution_count": 81,
   "id": "0f943b9a",
   "metadata": {},
   "outputs": [],
   "source": [
    "# Create the target variable (purchase_made)\n",
    "df['purchase_made'] = df['purchase_amount'].apply(lambda x: 1 if x > 0 else 0)"
   ]
  },
  {
   "cell_type": "markdown",
   "id": "0ce58c92",
   "metadata": {},
   "source": [
    "#### Split the dataset into features (X) and target variable (y)"
   ]
  },
  {
   "cell_type": "code",
   "execution_count": 61,
   "id": "4a3c9ab1",
   "metadata": {},
   "outputs": [],
   "source": [
    "# Select features and target variable\n",
    "X = df[['age', 'annual_income', 'loyalty_score', 'region', 'purchase_frequency']]\n",
    "y = df['purchase_made']"
   ]
  },
  {
   "cell_type": "code",
   "execution_count": 62,
   "id": "e2344a62",
   "metadata": {},
   "outputs": [],
   "source": [
    "# Convert 'region' categorical column to numerical using one-hot encoding\n",
    "X = pd.get_dummies(X, columns=['region'], drop_first=True)"
   ]
  },
  {
   "cell_type": "code",
   "execution_count": 63,
   "id": "c274d4cc",
   "metadata": {},
   "outputs": [],
   "source": [
    "# Split the data into training and testing sets\n",
    "X_train, X_test, y_train, y_test = train_test_split(X, y, test_size=0.2, random_state=42)"
   ]
  },
  {
   "cell_type": "code",
   "execution_count": 64,
   "id": "41fda895",
   "metadata": {},
   "outputs": [
    {
     "data": {
      "text/html": [
       "<style>#sk-container-id-3 {color: black;}#sk-container-id-3 pre{padding: 0;}#sk-container-id-3 div.sk-toggleable {background-color: white;}#sk-container-id-3 label.sk-toggleable__label {cursor: pointer;display: block;width: 100%;margin-bottom: 0;padding: 0.3em;box-sizing: border-box;text-align: center;}#sk-container-id-3 label.sk-toggleable__label-arrow:before {content: \"▸\";float: left;margin-right: 0.25em;color: #696969;}#sk-container-id-3 label.sk-toggleable__label-arrow:hover:before {color: black;}#sk-container-id-3 div.sk-estimator:hover label.sk-toggleable__label-arrow:before {color: black;}#sk-container-id-3 div.sk-toggleable__content {max-height: 0;max-width: 0;overflow: hidden;text-align: left;background-color: #f0f8ff;}#sk-container-id-3 div.sk-toggleable__content pre {margin: 0.2em;color: black;border-radius: 0.25em;background-color: #f0f8ff;}#sk-container-id-3 input.sk-toggleable__control:checked~div.sk-toggleable__content {max-height: 200px;max-width: 100%;overflow: auto;}#sk-container-id-3 input.sk-toggleable__control:checked~label.sk-toggleable__label-arrow:before {content: \"▾\";}#sk-container-id-3 div.sk-estimator input.sk-toggleable__control:checked~label.sk-toggleable__label {background-color: #d4ebff;}#sk-container-id-3 div.sk-label input.sk-toggleable__control:checked~label.sk-toggleable__label {background-color: #d4ebff;}#sk-container-id-3 input.sk-hidden--visually {border: 0;clip: rect(1px 1px 1px 1px);clip: rect(1px, 1px, 1px, 1px);height: 1px;margin: -1px;overflow: hidden;padding: 0;position: absolute;width: 1px;}#sk-container-id-3 div.sk-estimator {font-family: monospace;background-color: #f0f8ff;border: 1px dotted black;border-radius: 0.25em;box-sizing: border-box;margin-bottom: 0.5em;}#sk-container-id-3 div.sk-estimator:hover {background-color: #d4ebff;}#sk-container-id-3 div.sk-parallel-item::after {content: \"\";width: 100%;border-bottom: 1px solid gray;flex-grow: 1;}#sk-container-id-3 div.sk-label:hover label.sk-toggleable__label {background-color: #d4ebff;}#sk-container-id-3 div.sk-serial::before {content: \"\";position: absolute;border-left: 1px solid gray;box-sizing: border-box;top: 0;bottom: 0;left: 50%;z-index: 0;}#sk-container-id-3 div.sk-serial {display: flex;flex-direction: column;align-items: center;background-color: white;padding-right: 0.2em;padding-left: 0.2em;position: relative;}#sk-container-id-3 div.sk-item {position: relative;z-index: 1;}#sk-container-id-3 div.sk-parallel {display: flex;align-items: stretch;justify-content: center;background-color: white;position: relative;}#sk-container-id-3 div.sk-item::before, #sk-container-id-3 div.sk-parallel-item::before {content: \"\";position: absolute;border-left: 1px solid gray;box-sizing: border-box;top: 0;bottom: 0;left: 50%;z-index: -1;}#sk-container-id-3 div.sk-parallel-item {display: flex;flex-direction: column;z-index: 1;position: relative;background-color: white;}#sk-container-id-3 div.sk-parallel-item:first-child::after {align-self: flex-end;width: 50%;}#sk-container-id-3 div.sk-parallel-item:last-child::after {align-self: flex-start;width: 50%;}#sk-container-id-3 div.sk-parallel-item:only-child::after {width: 0;}#sk-container-id-3 div.sk-dashed-wrapped {border: 1px dashed gray;margin: 0 0.4em 0.5em 0.4em;box-sizing: border-box;padding-bottom: 0.4em;background-color: white;}#sk-container-id-3 div.sk-label label {font-family: monospace;font-weight: bold;display: inline-block;line-height: 1.2em;}#sk-container-id-3 div.sk-label-container {text-align: center;}#sk-container-id-3 div.sk-container {/* jupyter's `normalize.less` sets `[hidden] { display: none; }` but bootstrap.min.css set `[hidden] { display: none !important; }` so we also need the `!important` here to be able to override the default hidden behavior on the sphinx rendered scikit-learn.org. See: https://github.com/scikit-learn/scikit-learn/issues/21755 */display: inline-block !important;position: relative;}#sk-container-id-3 div.sk-text-repr-fallback {display: none;}</style><div id=\"sk-container-id-3\" class=\"sk-top-container\"><div class=\"sk-text-repr-fallback\"><pre>RandomForestClassifier()</pre><b>In a Jupyter environment, please rerun this cell to show the HTML representation or trust the notebook. <br />On GitHub, the HTML representation is unable to render, please try loading this page with nbviewer.org.</b></div><div class=\"sk-container\" hidden><div class=\"sk-item\"><div class=\"sk-estimator sk-toggleable\"><input class=\"sk-toggleable__control sk-hidden--visually\" id=\"sk-estimator-id-3\" type=\"checkbox\" checked><label for=\"sk-estimator-id-3\" class=\"sk-toggleable__label sk-toggleable__label-arrow\">RandomForestClassifier</label><div class=\"sk-toggleable__content\"><pre>RandomForestClassifier()</pre></div></div></div></div></div>"
      ],
      "text/plain": [
       "RandomForestClassifier()"
      ]
     },
     "execution_count": 64,
     "metadata": {},
     "output_type": "execute_result"
    }
   ],
   "source": [
    "# Train the model\n",
    "model = RandomForestClassifier()\n",
    "model.fit(X_train, y_train)"
   ]
  },
  {
   "cell_type": "code",
   "execution_count": 65,
   "id": "e10c7cf7",
   "metadata": {},
   "outputs": [],
   "source": [
    "# Make predictions\n",
    "y_pred = model.predict(X_test)"
   ]
  },
  {
   "cell_type": "code",
   "execution_count": 66,
   "id": "6cabf31c",
   "metadata": {},
   "outputs": [
    {
     "name": "stdout",
     "output_type": "stream",
     "text": [
      "Accuracy: 1.0\n",
      "Classification Report:\n",
      "               precision    recall  f1-score   support\n",
      "\n",
      "           1       1.00      1.00      1.00        48\n",
      "\n",
      "    accuracy                           1.00        48\n",
      "   macro avg       1.00      1.00      1.00        48\n",
      "weighted avg       1.00      1.00      1.00        48\n",
      "\n"
     ]
    }
   ],
   "source": [
    "# Evaluate the model\n",
    "print(\"Accuracy:\", accuracy_score(y_test, y_pred))\n",
    "print(\"Classification Report:\\n\", classification_report(y_test, y_pred))"
   ]
  },
  {
   "cell_type": "markdown",
   "id": "6c46fbe2",
   "metadata": {},
   "source": [
    "#### Example of Regression:\n"
   ]
  },
  {
   "cell_type": "markdown",
   "id": "e024d1ba",
   "metadata": {},
   "source": [
    "##### predict purchase_amount, we can use the following code"
   ]
  },
  {
   "cell_type": "code",
   "execution_count": 67,
   "id": "347e1088",
   "metadata": {},
   "outputs": [],
   "source": [
    "from sklearn.model_selection import train_test_split\n",
    "from sklearn.ensemble import RandomForestRegressor\n",
    "from sklearn.metrics import mean_absolute_error, mean_squared_error"
   ]
  },
  {
   "cell_type": "code",
   "execution_count": 68,
   "id": "c2460a3e",
   "metadata": {},
   "outputs": [],
   "source": [
    "# Select features and target variable\n",
    "X = df[['age', 'annual_income', 'loyalty_score', 'region', 'purchase_frequency']]\n",
    "y = df['purchase_amount']"
   ]
  },
  {
   "cell_type": "code",
   "execution_count": 69,
   "id": "aa27e0fe",
   "metadata": {},
   "outputs": [],
   "source": [
    "# Convert 'region' categorical column to numerical using one-hot encoding\n",
    "X = pd.get_dummies(X, columns=['region'], drop_first=True)"
   ]
  },
  {
   "cell_type": "code",
   "execution_count": 70,
   "id": "56bce410",
   "metadata": {},
   "outputs": [],
   "source": [
    "# Split the data into training and testing sets\n",
    "X_train, X_test, y_train, y_test = train_test_split(X, y, test_size=0.2, random_state=42)"
   ]
  },
  {
   "cell_type": "code",
   "execution_count": 71,
   "id": "e4c28d92",
   "metadata": {},
   "outputs": [
    {
     "data": {
      "text/html": [
       "<style>#sk-container-id-4 {color: black;}#sk-container-id-4 pre{padding: 0;}#sk-container-id-4 div.sk-toggleable {background-color: white;}#sk-container-id-4 label.sk-toggleable__label {cursor: pointer;display: block;width: 100%;margin-bottom: 0;padding: 0.3em;box-sizing: border-box;text-align: center;}#sk-container-id-4 label.sk-toggleable__label-arrow:before {content: \"▸\";float: left;margin-right: 0.25em;color: #696969;}#sk-container-id-4 label.sk-toggleable__label-arrow:hover:before {color: black;}#sk-container-id-4 div.sk-estimator:hover label.sk-toggleable__label-arrow:before {color: black;}#sk-container-id-4 div.sk-toggleable__content {max-height: 0;max-width: 0;overflow: hidden;text-align: left;background-color: #f0f8ff;}#sk-container-id-4 div.sk-toggleable__content pre {margin: 0.2em;color: black;border-radius: 0.25em;background-color: #f0f8ff;}#sk-container-id-4 input.sk-toggleable__control:checked~div.sk-toggleable__content {max-height: 200px;max-width: 100%;overflow: auto;}#sk-container-id-4 input.sk-toggleable__control:checked~label.sk-toggleable__label-arrow:before {content: \"▾\";}#sk-container-id-4 div.sk-estimator input.sk-toggleable__control:checked~label.sk-toggleable__label {background-color: #d4ebff;}#sk-container-id-4 div.sk-label input.sk-toggleable__control:checked~label.sk-toggleable__label {background-color: #d4ebff;}#sk-container-id-4 input.sk-hidden--visually {border: 0;clip: rect(1px 1px 1px 1px);clip: rect(1px, 1px, 1px, 1px);height: 1px;margin: -1px;overflow: hidden;padding: 0;position: absolute;width: 1px;}#sk-container-id-4 div.sk-estimator {font-family: monospace;background-color: #f0f8ff;border: 1px dotted black;border-radius: 0.25em;box-sizing: border-box;margin-bottom: 0.5em;}#sk-container-id-4 div.sk-estimator:hover {background-color: #d4ebff;}#sk-container-id-4 div.sk-parallel-item::after {content: \"\";width: 100%;border-bottom: 1px solid gray;flex-grow: 1;}#sk-container-id-4 div.sk-label:hover label.sk-toggleable__label {background-color: #d4ebff;}#sk-container-id-4 div.sk-serial::before {content: \"\";position: absolute;border-left: 1px solid gray;box-sizing: border-box;top: 0;bottom: 0;left: 50%;z-index: 0;}#sk-container-id-4 div.sk-serial {display: flex;flex-direction: column;align-items: center;background-color: white;padding-right: 0.2em;padding-left: 0.2em;position: relative;}#sk-container-id-4 div.sk-item {position: relative;z-index: 1;}#sk-container-id-4 div.sk-parallel {display: flex;align-items: stretch;justify-content: center;background-color: white;position: relative;}#sk-container-id-4 div.sk-item::before, #sk-container-id-4 div.sk-parallel-item::before {content: \"\";position: absolute;border-left: 1px solid gray;box-sizing: border-box;top: 0;bottom: 0;left: 50%;z-index: -1;}#sk-container-id-4 div.sk-parallel-item {display: flex;flex-direction: column;z-index: 1;position: relative;background-color: white;}#sk-container-id-4 div.sk-parallel-item:first-child::after {align-self: flex-end;width: 50%;}#sk-container-id-4 div.sk-parallel-item:last-child::after {align-self: flex-start;width: 50%;}#sk-container-id-4 div.sk-parallel-item:only-child::after {width: 0;}#sk-container-id-4 div.sk-dashed-wrapped {border: 1px dashed gray;margin: 0 0.4em 0.5em 0.4em;box-sizing: border-box;padding-bottom: 0.4em;background-color: white;}#sk-container-id-4 div.sk-label label {font-family: monospace;font-weight: bold;display: inline-block;line-height: 1.2em;}#sk-container-id-4 div.sk-label-container {text-align: center;}#sk-container-id-4 div.sk-container {/* jupyter's `normalize.less` sets `[hidden] { display: none; }` but bootstrap.min.css set `[hidden] { display: none !important; }` so we also need the `!important` here to be able to override the default hidden behavior on the sphinx rendered scikit-learn.org. See: https://github.com/scikit-learn/scikit-learn/issues/21755 */display: inline-block !important;position: relative;}#sk-container-id-4 div.sk-text-repr-fallback {display: none;}</style><div id=\"sk-container-id-4\" class=\"sk-top-container\"><div class=\"sk-text-repr-fallback\"><pre>RandomForestRegressor()</pre><b>In a Jupyter environment, please rerun this cell to show the HTML representation or trust the notebook. <br />On GitHub, the HTML representation is unable to render, please try loading this page with nbviewer.org.</b></div><div class=\"sk-container\" hidden><div class=\"sk-item\"><div class=\"sk-estimator sk-toggleable\"><input class=\"sk-toggleable__control sk-hidden--visually\" id=\"sk-estimator-id-4\" type=\"checkbox\" checked><label for=\"sk-estimator-id-4\" class=\"sk-toggleable__label sk-toggleable__label-arrow\">RandomForestRegressor</label><div class=\"sk-toggleable__content\"><pre>RandomForestRegressor()</pre></div></div></div></div></div>"
      ],
      "text/plain": [
       "RandomForestRegressor()"
      ]
     },
     "execution_count": 71,
     "metadata": {},
     "output_type": "execute_result"
    }
   ],
   "source": [
    "# Train the model\n",
    "model = RandomForestRegressor()\n",
    "model.fit(X_train, y_train)"
   ]
  },
  {
   "cell_type": "code",
   "execution_count": 72,
   "id": "93f07d90",
   "metadata": {},
   "outputs": [
    {
     "data": {
      "text/plain": [
       "array([629.9, 166.9, 600. , 600. , 398. , 589.6, 324.6, 510. , 500. ,\n",
       "       420. , 230. , 600. , 385.2, 439.8, 449.8, 629.9, 428. , 430. ,\n",
       "       360. , 239.3, 340. , 268.2, 240. , 629.9, 266.2, 300. , 449.8,\n",
       "       170. , 249.8, 514.8, 470. , 600. , 268.2, 510. , 550. , 268.2,\n",
       "       520. , 629.9, 430. , 380. , 500. , 226.8, 439.8, 230. , 170. ,\n",
       "       600. , 621.2, 170. ])"
      ]
     },
     "execution_count": 72,
     "metadata": {},
     "output_type": "execute_result"
    }
   ],
   "source": [
    "# Make predictions\n",
    "y_pred = model.predict(X_test)\n",
    "y_pred"
   ]
  },
  {
   "cell_type": "code",
   "execution_count": 73,
   "id": "6860fde2",
   "metadata": {},
   "outputs": [
    {
     "name": "stdout",
     "output_type": "stream",
     "text": [
      "Mean Absolute Error: 2.0416666666666696\n",
      "Mean Squared Error: 38.90791666666669\n"
     ]
    }
   ],
   "source": [
    "# Evaluate the model\n",
    "print(\"Mean Absolute Error:\", mean_absolute_error(y_test, y_pred))\n",
    "print(\"Mean Squared Error:\", mean_squared_error(y_test, y_pred))"
   ]
  },
  {
   "cell_type": "code",
   "execution_count": null,
   "id": "ebbd2c34",
   "metadata": {},
   "outputs": [],
   "source": []
  },
  {
   "cell_type": "markdown",
   "id": "ec7b1106",
   "metadata": {},
   "source": [
    "### Classification Code (High Spender vs. Low Spender)"
   ]
  },
  {
   "cell_type": "code",
   "execution_count": 74,
   "id": "1b4708bd",
   "metadata": {},
   "outputs": [
    {
     "name": "stdout",
     "output_type": "stream",
     "text": [
      "Accuracy: 1.0\n",
      "Classification Report:\n",
      "               precision    recall  f1-score   support\n",
      "\n",
      "           1       1.00      1.00      1.00        48\n",
      "\n",
      "    accuracy                           1.00        48\n",
      "   macro avg       1.00      1.00      1.00        48\n",
      "weighted avg       1.00      1.00      1.00        48\n",
      "\n"
     ]
    }
   ],
   "source": [
    "import pandas as pd\n",
    "from sklearn.model_selection import train_test_split\n",
    "from sklearn.ensemble import RandomForestClassifier\n",
    "from sklearn.metrics import classification_report, accuracy_score\n",
    "\n",
    "# Assuming your dataset is loaded as 'df'\n",
    "# df = pd.read_csv('path_to_your_file.csv')\n",
    "\n",
    "# Step 1: Create a binary 'high_spender' column based on 'purchase_amount'\n",
    "# We'll define high spenders as those with 'purchase_amount' greater than a certain threshold, for example, 100.\n",
    "df['high_spender'] = df['purchase_amount'].apply(lambda x: 1 if x > 100 else 0)\n",
    "\n",
    "# Step 2: Select features (X) and target variable (y)\n",
    "X = df[['age', 'annual_income', 'loyalty_score', 'region', 'purchase_frequency']]  # Features\n",
    "y = df['high_spender']  # Target: whether the customer is a high spender (1) or not (0)\n",
    "\n",
    "# Step 3: One-hot encode the categorical column ('region')\n",
    "X = pd.get_dummies(X, columns=['region'], drop_first=True)\n",
    "\n",
    "# Step 4: Split the data into training and testing sets (80% train, 20% test)\n",
    "X_train, X_test, y_train, y_test = train_test_split(X, y, test_size=0.2, random_state=42)\n",
    "\n",
    "# Step 5: Train a Random Forest Classifier model\n",
    "model = RandomForestClassifier(random_state=42)\n",
    "model.fit(X_train, y_train)\n",
    "\n",
    "# Step 6: Make predictions using the trained model\n",
    "y_pred = model.predict(X_test)\n",
    "\n",
    "# Step 7: Evaluate the model\n",
    "print(\"Accuracy:\", accuracy_score(y_test, y_pred))\n",
    "print(\"Classification Report:\\n\", classification_report(y_test, y_pred))\n"
   ]
  },
  {
   "cell_type": "markdown",
   "id": "5dc7d374",
   "metadata": {},
   "source": [
    "#### Step 2: Prediction Code (Predict Future Spending of High-Value Customers)"
   ]
  },
  {
   "cell_type": "code",
   "execution_count": 75,
   "id": "f8590486",
   "metadata": {},
   "outputs": [
    {
     "name": "stdout",
     "output_type": "stream",
     "text": [
      "Mean Absolute Error: 2.0562500000000052\n",
      "Mean Squared Error: 39.930208333333304\n"
     ]
    }
   ],
   "source": [
    "from sklearn.ensemble import RandomForestRegressor\n",
    "from sklearn.metrics import mean_absolute_error, mean_squared_error\n",
    "\n",
    "# Step 1: Filter only high spenders for prediction\n",
    "high_spenders = df[df['high_spender'] == 1]\n",
    "\n",
    "# Step 2: Select features (X) and target variable (y)\n",
    "X = high_spenders[['age', 'annual_income', 'loyalty_score', 'region', 'purchase_frequency']]  # Features\n",
    "y = high_spenders['purchase_amount']  # Target: purchase_amount (future spending)\n",
    "\n",
    "# Step 3: One-hot encode the categorical column ('region')\n",
    "X = pd.get_dummies(X, columns=['region'], drop_first=True)\n",
    "\n",
    "# Step 4: Split the data into training and testing sets (80% train, 20% test)\n",
    "X_train, X_test, y_train, y_test = train_test_split(X, y, test_size=0.2, random_state=42)\n",
    "\n",
    "# Step 5: Train a Random Forest Regressor model\n",
    "regressor = RandomForestRegressor(random_state=42)\n",
    "regressor.fit(X_train, y_train)\n",
    "\n",
    "# Step 6: Make predictions using the trained regressor\n",
    "y_pred = regressor.predict(X_test)\n",
    "\n",
    "# Step 7: Evaluate the model\n",
    "print(\"Mean Absolute Error:\", mean_absolute_error(y_test, y_pred))\n",
    "print(\"Mean Squared Error:\", mean_squared_error(y_test, y_pred))\n"
   ]
  },
  {
   "cell_type": "markdown",
   "id": "f73014ce",
   "metadata": {},
   "source": [
    "#### Step 3: Customizing the Threshold for High Spenders\n"
   ]
  },
  {
   "cell_type": "code",
   "execution_count": 76,
   "id": "11b90717",
   "metadata": {},
   "outputs": [],
   "source": [
    "threshold = df['purchase_amount'].quantile(0.75)  # 75th percentile\n",
    "df['high_spender'] = df['purchase_amount'].apply(lambda x: 1 if x > threshold else 0)\n"
   ]
  },
  {
   "cell_type": "code",
   "execution_count": 77,
   "id": "cd4c90e0",
   "metadata": {},
   "outputs": [
    {
     "data": {
      "text/html": [
       "<div>\n",
       "<style scoped>\n",
       "    .dataframe tbody tr th:only-of-type {\n",
       "        vertical-align: middle;\n",
       "    }\n",
       "\n",
       "    .dataframe tbody tr th {\n",
       "        vertical-align: top;\n",
       "    }\n",
       "\n",
       "    .dataframe thead th {\n",
       "        text-align: right;\n",
       "    }\n",
       "</style>\n",
       "<table border=\"1\" class=\"dataframe\">\n",
       "  <thead>\n",
       "    <tr style=\"text-align: right;\">\n",
       "      <th></th>\n",
       "      <th>user_id</th>\n",
       "      <th>age</th>\n",
       "      <th>annual_income</th>\n",
       "      <th>purchase_amount</th>\n",
       "      <th>loyalty_score</th>\n",
       "      <th>region</th>\n",
       "      <th>purchase_frequency</th>\n",
       "      <th>purchase_made</th>\n",
       "      <th>high_spender</th>\n",
       "    </tr>\n",
       "  </thead>\n",
       "  <tbody>\n",
       "    <tr>\n",
       "      <th>0</th>\n",
       "      <td>1</td>\n",
       "      <td>25</td>\n",
       "      <td>45000</td>\n",
       "      <td>200</td>\n",
       "      <td>4.5</td>\n",
       "      <td>North</td>\n",
       "      <td>12</td>\n",
       "      <td>1</td>\n",
       "      <td>0</td>\n",
       "    </tr>\n",
       "    <tr>\n",
       "      <th>1</th>\n",
       "      <td>2</td>\n",
       "      <td>34</td>\n",
       "      <td>55000</td>\n",
       "      <td>350</td>\n",
       "      <td>7.0</td>\n",
       "      <td>South</td>\n",
       "      <td>18</td>\n",
       "      <td>1</td>\n",
       "      <td>0</td>\n",
       "    </tr>\n",
       "    <tr>\n",
       "      <th>2</th>\n",
       "      <td>3</td>\n",
       "      <td>45</td>\n",
       "      <td>65000</td>\n",
       "      <td>500</td>\n",
       "      <td>8.0</td>\n",
       "      <td>West</td>\n",
       "      <td>22</td>\n",
       "      <td>1</td>\n",
       "      <td>0</td>\n",
       "    </tr>\n",
       "    <tr>\n",
       "      <th>3</th>\n",
       "      <td>4</td>\n",
       "      <td>22</td>\n",
       "      <td>30000</td>\n",
       "      <td>150</td>\n",
       "      <td>3.0</td>\n",
       "      <td>East</td>\n",
       "      <td>10</td>\n",
       "      <td>1</td>\n",
       "      <td>0</td>\n",
       "    </tr>\n",
       "    <tr>\n",
       "      <th>4</th>\n",
       "      <td>5</td>\n",
       "      <td>29</td>\n",
       "      <td>47000</td>\n",
       "      <td>220</td>\n",
       "      <td>4.8</td>\n",
       "      <td>North</td>\n",
       "      <td>13</td>\n",
       "      <td>1</td>\n",
       "      <td>0</td>\n",
       "    </tr>\n",
       "    <tr>\n",
       "      <th>...</th>\n",
       "      <td>...</td>\n",
       "      <td>...</td>\n",
       "      <td>...</td>\n",
       "      <td>...</td>\n",
       "      <td>...</td>\n",
       "      <td>...</td>\n",
       "      <td>...</td>\n",
       "      <td>...</td>\n",
       "      <td>...</td>\n",
       "    </tr>\n",
       "    <tr>\n",
       "      <th>233</th>\n",
       "      <td>234</td>\n",
       "      <td>40</td>\n",
       "      <td>60000</td>\n",
       "      <td>450</td>\n",
       "      <td>7.2</td>\n",
       "      <td>West</td>\n",
       "      <td>20</td>\n",
       "      <td>1</td>\n",
       "      <td>0</td>\n",
       "    </tr>\n",
       "    <tr>\n",
       "      <th>234</th>\n",
       "      <td>235</td>\n",
       "      <td>38</td>\n",
       "      <td>59000</td>\n",
       "      <td>430</td>\n",
       "      <td>6.9</td>\n",
       "      <td>North</td>\n",
       "      <td>20</td>\n",
       "      <td>1</td>\n",
       "      <td>0</td>\n",
       "    </tr>\n",
       "    <tr>\n",
       "      <th>235</th>\n",
       "      <td>236</td>\n",
       "      <td>54</td>\n",
       "      <td>74000</td>\n",
       "      <td>630</td>\n",
       "      <td>9.4</td>\n",
       "      <td>South</td>\n",
       "      <td>27</td>\n",
       "      <td>1</td>\n",
       "      <td>1</td>\n",
       "    </tr>\n",
       "    <tr>\n",
       "      <th>236</th>\n",
       "      <td>237</td>\n",
       "      <td>32</td>\n",
       "      <td>52000</td>\n",
       "      <td>360</td>\n",
       "      <td>5.8</td>\n",
       "      <td>West</td>\n",
       "      <td>18</td>\n",
       "      <td>1</td>\n",
       "      <td>0</td>\n",
       "    </tr>\n",
       "    <tr>\n",
       "      <th>237</th>\n",
       "      <td>238</td>\n",
       "      <td>31</td>\n",
       "      <td>51000</td>\n",
       "      <td>340</td>\n",
       "      <td>5.6</td>\n",
       "      <td>North</td>\n",
       "      <td>17</td>\n",
       "      <td>1</td>\n",
       "      <td>0</td>\n",
       "    </tr>\n",
       "  </tbody>\n",
       "</table>\n",
       "<p>238 rows × 9 columns</p>\n",
       "</div>"
      ],
      "text/plain": [
       "     user_id  age  annual_income  purchase_amount  loyalty_score region  \\\n",
       "0          1   25          45000              200            4.5  North   \n",
       "1          2   34          55000              350            7.0  South   \n",
       "2          3   45          65000              500            8.0   West   \n",
       "3          4   22          30000              150            3.0   East   \n",
       "4          5   29          47000              220            4.8  North   \n",
       "..       ...  ...            ...              ...            ...    ...   \n",
       "233      234   40          60000              450            7.2   West   \n",
       "234      235   38          59000              430            6.9  North   \n",
       "235      236   54          74000              630            9.4  South   \n",
       "236      237   32          52000              360            5.8   West   \n",
       "237      238   31          51000              340            5.6  North   \n",
       "\n",
       "     purchase_frequency  purchase_made  high_spender  \n",
       "0                    12              1             0  \n",
       "1                    18              1             0  \n",
       "2                    22              1             0  \n",
       "3                    10              1             0  \n",
       "4                    13              1             0  \n",
       "..                  ...            ...           ...  \n",
       "233                  20              1             0  \n",
       "234                  20              1             0  \n",
       "235                  27              1             1  \n",
       "236                  18              1             0  \n",
       "237                  17              1             0  \n",
       "\n",
       "[238 rows x 9 columns]"
      ]
     },
     "execution_count": 77,
     "metadata": {},
     "output_type": "execute_result"
    }
   ],
   "source": [
    "df"
   ]
  },
  {
   "cell_type": "code",
   "execution_count": 79,
   "id": "343a3f51",
   "metadata": {},
   "outputs": [
    {
     "data": {
      "text/plain": [
       "user_id                 124.750000\n",
       "age                      51.066667\n",
       "annual_income         71066.666667\n",
       "purchase_amount         601.500000\n",
       "loyalty_score             9.053333\n",
       "purchase_frequency       25.466667\n",
       "purchase_made             1.000000\n",
       "high_spender              1.000000\n",
       "dtype: float64"
      ]
     },
     "execution_count": 79,
     "metadata": {},
     "output_type": "execute_result"
    }
   ],
   "source": [
    "df[df['high_spender'] == 1].select_dtypes(include='number').mean()\n"
   ]
  },
  {
   "cell_type": "code",
   "execution_count": null,
   "id": "fd1dda55",
   "metadata": {},
   "outputs": [],
   "source": []
  },
  {
   "cell_type": "code",
   "execution_count": 52,
   "id": "a2896ba6",
   "metadata": {},
   "outputs": [
    {
     "name": "stdout",
     "output_type": "stream",
     "text": [
      "    user_id  age  annual_income  purchase_amount  loyalty_score region  \\\n",
      "0         1   25          45000              200            4.5  North   \n",
      "1         2   34          55000              350            7.0  South   \n",
      "2         3   45          65000              500            8.0   West   \n",
      "3         4   22          30000              150            3.0   East   \n",
      "4         5   29          47000              220            4.8  North   \n",
      "5         6   41          61000              480            7.8  South   \n",
      "6         7   36          54000              400            6.5   West   \n",
      "7         8   27          43000              230            4.2   East   \n",
      "8         9   50          70000              600            9.0  North   \n",
      "9        10   31          50000              320            5.5  South   \n",
      "10       11   28          46000              250            4.4   West   \n",
      "11       12   42          62000              520            8.2  North   \n",
      "12       13   33          53000              380            6.0  South   \n",
      "13       14   37          58000              420            6.8   East   \n",
      "14       15   49          69000              590            8.9   West   \n",
      "15       16   23          31000              160            3.2  North   \n",
      "16       17   39          57000              440            7.0  South   \n",
      "17       18   30          49000              300            5.0   West   \n",
      "18       19   46          66000              510            8.1  North   \n",
      "19       20   26          44000              240            4.3   East   \n",
      "20       21   52          72000              610            9.2  South   \n",
      "21       22   24          32000              170            3.3   West   \n",
      "22       23   44          63000              460            7.5  North   \n",
      "23       24   35          56000              390            6.2  South   \n",
      "24       25   38          59000              430            6.9   East   \n",
      "25       26   47          67000              530            8.3   West   \n",
      "26       27   32          52000              360            5.8  North   \n",
      "27       28   29          48000              280            4.6  South   \n",
      "28       29   51          71000              600            9.0   West   \n",
      "29       30   40          60000              450            7.2   East   \n",
      "\n",
      "    purchase_frequency  purchase_made  high_spender  \n",
      "0                   12              1             0  \n",
      "1                   18              1             0  \n",
      "2                   22              1             0  \n",
      "3                   10              1             0  \n",
      "4                   13              1             0  \n",
      "5                   21              1             0  \n",
      "6                   19              1             0  \n",
      "7                   14              1             0  \n",
      "8                   25              1             1  \n",
      "9                   17              1             0  \n",
      "10                  15              1             0  \n",
      "11                  23              1             0  \n",
      "12                  18              1             0  \n",
      "13                  20              1             0  \n",
      "14                  24              1             1  \n",
      "15                  11              1             0  \n",
      "16                  21              1             0  \n",
      "17                  16              1             0  \n",
      "18                  22              1             0  \n",
      "19                  14              1             0  \n",
      "20                  26              1             1  \n",
      "21                  12              1             0  \n",
      "22                  21              1             0  \n",
      "23                  19              1             0  \n",
      "24                  20              1             0  \n",
      "25                  23              1             1  \n",
      "26                  18              1             0  \n",
      "27                  15              1             0  \n",
      "28                  25              1             1  \n",
      "29                  22              1             0  \n"
     ]
    }
   ],
   "source": [
    "# Create DataFrame\n",
    "df2 = pd.DataFrame(df)\n",
    "\n",
    "# Calculate the 75th percentile threshold for purchase_amount\n",
    "threshold = df['purchase_amount'].quantile(0.75)  # 75th percentile\n",
    "\n",
    "# Create a new column 'high_spender' based on the purchase_amount and threshold\n",
    "df['high_spender'] = df['purchase_amount'].apply(lambda x: 1 if x > threshold else 0)\n",
    "\n",
    "# Print the resulting DataFrame\n",
    "print(df.head(30))"
   ]
  },
  {
   "cell_type": "code",
   "execution_count": null,
   "id": "c8995433",
   "metadata": {},
   "outputs": [],
   "source": []
  },
  {
   "cell_type": "code",
   "execution_count": null,
   "id": "eb77fee8",
   "metadata": {},
   "outputs": [],
   "source": []
  }
 ],
 "metadata": {
  "kernelspec": {
   "display_name": "Python 3 (ipykernel)",
   "language": "python",
   "name": "python3"
  },
  "language_info": {
   "codemirror_mode": {
    "name": "ipython",
    "version": 3
   },
   "file_extension": ".py",
   "mimetype": "text/x-python",
   "name": "python",
   "nbconvert_exporter": "python",
   "pygments_lexer": "ipython3",
   "version": "3.11.5"
  }
 },
 "nbformat": 4,
 "nbformat_minor": 5
}
