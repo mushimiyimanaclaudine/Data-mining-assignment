{
 "cells": [
  {
   "cell_type": "markdown",
   "id": "61c66a98",
   "metadata": {},
   "source": [
    "### 1: Classification Code (High Spender vs. Low Spender)"
   ]
  },
  {
   "cell_type": "code",
   "execution_count": 33,
   "id": "14474a8c",
   "metadata": {},
   "outputs": [
    {
     "name": "stdout",
     "output_type": "stream",
     "text": [
      "   user_id  age  annual_income  purchase_amount  loyalty_score region  \\\n",
      "0        1   25          45000              200            4.5  North   \n",
      "1        2   34          55000              350            7.0  South   \n",
      "2        3   45          65000              500            8.0   West   \n",
      "3        4   22          30000              150            3.0   East   \n",
      "4        5   29          47000              220            4.8  North   \n",
      "\n",
      "   purchase_frequency  \n",
      "0                  12  \n",
      "1                  18  \n",
      "2                  22  \n",
      "3                  10  \n",
      "4                  13  \n"
     ]
    }
   ],
   "source": [
    "import pandas as pd\n",
    "\n",
    "# Specify the path to your downloaded CSV file\n",
    "file_path = 'Customer Purchasing Behaviors.csv'\n",
    "\n",
    "# Load the dataset\n",
    "df = pd.read_csv(file_path)\n",
    "\n",
    "# Display the first few rows of the dataset\n",
    "print(df.head())"
   ]
  },
  {
   "cell_type": "markdown",
   "id": "cbff1fbc",
   "metadata": {},
   "source": [
    "### import libraries"
   ]
  },
  {
   "cell_type": "code",
   "execution_count": 34,
   "id": "7e5746cc",
   "metadata": {},
   "outputs": [],
   "source": [
    "import pandas as pd\n",
    "from sklearn.model_selection import train_test_split\n",
    "from sklearn.ensemble import RandomForestClassifier\n",
    "from sklearn.metrics import classification_report, accuracy_score"
   ]
  },
  {
   "cell_type": "markdown",
   "id": "21ca62d3",
   "metadata": {},
   "source": [
    "### Step 1: Create a binary 'high_spender' column based on 'purchase_amount'\n"
   ]
  },
  {
   "cell_type": "code",
   "execution_count": 35,
   "id": "dd60f0e0",
   "metadata": {},
   "outputs": [],
   "source": [
    "\n",
    "# We'll define high spenders as those with 'purchase_amount' greater than a certain threshold, for example, 100.\n",
    "df['high_spender'] = df['purchase_amount'].apply(lambda x: 1 if x > 100 else 0)"
   ]
  },
  {
   "cell_type": "markdown",
   "id": "f45316bd",
   "metadata": {},
   "source": [
    "### Select features (X) and target variable (y)\n"
   ]
  },
  {
   "cell_type": "code",
   "execution_count": 36,
   "id": "6312f7c7",
   "metadata": {},
   "outputs": [],
   "source": [
    "X = df[['age', 'annual_income', 'loyalty_score', 'region', 'purchase_frequency']]  # Features\n",
    "y = df['high_spender']  # Target: whether the customer is a high spender (1) or not (0)"
   ]
  },
  {
   "cell_type": "markdown",
   "id": "a2fc4fa9",
   "metadata": {},
   "source": [
    "### One-hot encode the categorical column ('region')\n"
   ]
  },
  {
   "cell_type": "code",
   "execution_count": 37,
   "id": "35e8af97",
   "metadata": {},
   "outputs": [],
   "source": [
    "X = pd.get_dummies(X, columns=['region'], drop_first=True)"
   ]
  },
  {
   "cell_type": "markdown",
   "id": "653c57ef",
   "metadata": {},
   "source": [
    "### Split the data into training and testing sets (80% train, 20% test)\n"
   ]
  },
  {
   "cell_type": "code",
   "execution_count": 38,
   "id": "f21fb34c",
   "metadata": {},
   "outputs": [],
   "source": [
    "X_train, X_test, y_train, y_test = train_test_split(X, y, test_size=0.2, random_state=42)\n"
   ]
  },
  {
   "cell_type": "markdown",
   "id": "f9893d4d",
   "metadata": {},
   "source": [
    "### Train a Random Forest Classifier model\n"
   ]
  },
  {
   "cell_type": "code",
   "execution_count": 39,
   "id": "6c7a0e9e",
   "metadata": {},
   "outputs": [
    {
     "data": {
      "text/html": [
       "<style>#sk-container-id-3 {color: black;}#sk-container-id-3 pre{padding: 0;}#sk-container-id-3 div.sk-toggleable {background-color: white;}#sk-container-id-3 label.sk-toggleable__label {cursor: pointer;display: block;width: 100%;margin-bottom: 0;padding: 0.3em;box-sizing: border-box;text-align: center;}#sk-container-id-3 label.sk-toggleable__label-arrow:before {content: \"▸\";float: left;margin-right: 0.25em;color: #696969;}#sk-container-id-3 label.sk-toggleable__label-arrow:hover:before {color: black;}#sk-container-id-3 div.sk-estimator:hover label.sk-toggleable__label-arrow:before {color: black;}#sk-container-id-3 div.sk-toggleable__content {max-height: 0;max-width: 0;overflow: hidden;text-align: left;background-color: #f0f8ff;}#sk-container-id-3 div.sk-toggleable__content pre {margin: 0.2em;color: black;border-radius: 0.25em;background-color: #f0f8ff;}#sk-container-id-3 input.sk-toggleable__control:checked~div.sk-toggleable__content {max-height: 200px;max-width: 100%;overflow: auto;}#sk-container-id-3 input.sk-toggleable__control:checked~label.sk-toggleable__label-arrow:before {content: \"▾\";}#sk-container-id-3 div.sk-estimator input.sk-toggleable__control:checked~label.sk-toggleable__label {background-color: #d4ebff;}#sk-container-id-3 div.sk-label input.sk-toggleable__control:checked~label.sk-toggleable__label {background-color: #d4ebff;}#sk-container-id-3 input.sk-hidden--visually {border: 0;clip: rect(1px 1px 1px 1px);clip: rect(1px, 1px, 1px, 1px);height: 1px;margin: -1px;overflow: hidden;padding: 0;position: absolute;width: 1px;}#sk-container-id-3 div.sk-estimator {font-family: monospace;background-color: #f0f8ff;border: 1px dotted black;border-radius: 0.25em;box-sizing: border-box;margin-bottom: 0.5em;}#sk-container-id-3 div.sk-estimator:hover {background-color: #d4ebff;}#sk-container-id-3 div.sk-parallel-item::after {content: \"\";width: 100%;border-bottom: 1px solid gray;flex-grow: 1;}#sk-container-id-3 div.sk-label:hover label.sk-toggleable__label {background-color: #d4ebff;}#sk-container-id-3 div.sk-serial::before {content: \"\";position: absolute;border-left: 1px solid gray;box-sizing: border-box;top: 0;bottom: 0;left: 50%;z-index: 0;}#sk-container-id-3 div.sk-serial {display: flex;flex-direction: column;align-items: center;background-color: white;padding-right: 0.2em;padding-left: 0.2em;position: relative;}#sk-container-id-3 div.sk-item {position: relative;z-index: 1;}#sk-container-id-3 div.sk-parallel {display: flex;align-items: stretch;justify-content: center;background-color: white;position: relative;}#sk-container-id-3 div.sk-item::before, #sk-container-id-3 div.sk-parallel-item::before {content: \"\";position: absolute;border-left: 1px solid gray;box-sizing: border-box;top: 0;bottom: 0;left: 50%;z-index: -1;}#sk-container-id-3 div.sk-parallel-item {display: flex;flex-direction: column;z-index: 1;position: relative;background-color: white;}#sk-container-id-3 div.sk-parallel-item:first-child::after {align-self: flex-end;width: 50%;}#sk-container-id-3 div.sk-parallel-item:last-child::after {align-self: flex-start;width: 50%;}#sk-container-id-3 div.sk-parallel-item:only-child::after {width: 0;}#sk-container-id-3 div.sk-dashed-wrapped {border: 1px dashed gray;margin: 0 0.4em 0.5em 0.4em;box-sizing: border-box;padding-bottom: 0.4em;background-color: white;}#sk-container-id-3 div.sk-label label {font-family: monospace;font-weight: bold;display: inline-block;line-height: 1.2em;}#sk-container-id-3 div.sk-label-container {text-align: center;}#sk-container-id-3 div.sk-container {/* jupyter's `normalize.less` sets `[hidden] { display: none; }` but bootstrap.min.css set `[hidden] { display: none !important; }` so we also need the `!important` here to be able to override the default hidden behavior on the sphinx rendered scikit-learn.org. See: https://github.com/scikit-learn/scikit-learn/issues/21755 */display: inline-block !important;position: relative;}#sk-container-id-3 div.sk-text-repr-fallback {display: none;}</style><div id=\"sk-container-id-3\" class=\"sk-top-container\"><div class=\"sk-text-repr-fallback\"><pre>RandomForestClassifier(random_state=42)</pre><b>In a Jupyter environment, please rerun this cell to show the HTML representation or trust the notebook. <br />On GitHub, the HTML representation is unable to render, please try loading this page with nbviewer.org.</b></div><div class=\"sk-container\" hidden><div class=\"sk-item\"><div class=\"sk-estimator sk-toggleable\"><input class=\"sk-toggleable__control sk-hidden--visually\" id=\"sk-estimator-id-3\" type=\"checkbox\" checked><label for=\"sk-estimator-id-3\" class=\"sk-toggleable__label sk-toggleable__label-arrow\">RandomForestClassifier</label><div class=\"sk-toggleable__content\"><pre>RandomForestClassifier(random_state=42)</pre></div></div></div></div></div>"
      ],
      "text/plain": [
       "RandomForestClassifier(random_state=42)"
      ]
     },
     "execution_count": 39,
     "metadata": {},
     "output_type": "execute_result"
    }
   ],
   "source": [
    "model = RandomForestClassifier(random_state=42)\n",
    "model.fit(X_train, y_train)\n"
   ]
  },
  {
   "cell_type": "markdown",
   "id": "89b817f2",
   "metadata": {},
   "source": [
    "### Make predictions using the trained model\n"
   ]
  },
  {
   "cell_type": "code",
   "execution_count": 40,
   "id": "0b8777c3",
   "metadata": {},
   "outputs": [],
   "source": [
    "y_pred = model.predict(X_test)\n"
   ]
  },
  {
   "cell_type": "markdown",
   "id": "157a714f",
   "metadata": {},
   "source": [
    "### Evaluate the model\n"
   ]
  },
  {
   "cell_type": "code",
   "execution_count": 41,
   "id": "775f8c03",
   "metadata": {},
   "outputs": [
    {
     "name": "stdout",
     "output_type": "stream",
     "text": [
      "Accuracy: 1.0\n",
      "Classification Report:\n",
      "               precision    recall  f1-score   support\n",
      "\n",
      "           1       1.00      1.00      1.00        48\n",
      "\n",
      "    accuracy                           1.00        48\n",
      "   macro avg       1.00      1.00      1.00        48\n",
      "weighted avg       1.00      1.00      1.00        48\n",
      "\n"
     ]
    }
   ],
   "source": [
    "print(\"Accuracy:\", accuracy_score(y_test, y_pred))\n",
    "print(\"Classification Report:\\n\", classification_report(y_test, y_pred))"
   ]
  },
  {
   "cell_type": "markdown",
   "id": "fcb5d603",
   "metadata": {},
   "source": [
    "#### 2: Prediction Code (Predict Future Spending of High-Value Customers)"
   ]
  },
  {
   "cell_type": "code",
   "execution_count": 42,
   "id": "b5fed58f",
   "metadata": {},
   "outputs": [],
   "source": [
    "from sklearn.ensemble import RandomForestRegressor\n",
    "from sklearn.metrics import mean_absolute_error, mean_squared_error"
   ]
  },
  {
   "cell_type": "code",
   "execution_count": null,
   "id": "5e3e38d1",
   "metadata": {},
   "outputs": [],
   "source": []
  },
  {
   "cell_type": "markdown",
   "id": "3607b61e",
   "metadata": {},
   "source": [
    "###  Filter only high spenders for prediction"
   ]
  },
  {
   "cell_type": "code",
   "execution_count": 43,
   "id": "8cfd0370",
   "metadata": {},
   "outputs": [],
   "source": [
    "high_spenders = df[df['high_spender'] == 1]"
   ]
  },
  {
   "cell_type": "markdown",
   "id": "80aaa7cc",
   "metadata": {},
   "source": [
    "### Select features (X) and target variable (y)\n"
   ]
  },
  {
   "cell_type": "code",
   "execution_count": 44,
   "id": "35ca4d8a",
   "metadata": {},
   "outputs": [],
   "source": [
    "X = high_spenders[['age', 'annual_income', 'loyalty_score', 'region', 'purchase_frequency']]  # Features\n",
    "y = high_spenders['purchase_amount']  # Target: purchase_amount (future spending)\n"
   ]
  },
  {
   "cell_type": "markdown",
   "id": "8e29c0aa",
   "metadata": {},
   "source": [
    "### One-hot encode the categorical column ('region')\n"
   ]
  },
  {
   "cell_type": "code",
   "execution_count": 45,
   "id": "9af5e5c6",
   "metadata": {},
   "outputs": [],
   "source": [
    "X = pd.get_dummies(X, columns=['region'], drop_first=True)"
   ]
  },
  {
   "cell_type": "markdown",
   "id": "f073bb80",
   "metadata": {},
   "source": [
    "#### Split the data into training and testing sets (80% train, 20% test)\n"
   ]
  },
  {
   "cell_type": "code",
   "execution_count": 46,
   "id": "27bb75f4",
   "metadata": {},
   "outputs": [],
   "source": [
    "X_train, X_test, y_train, y_test = train_test_split(X, y, test_size=0.2, random_state=42)"
   ]
  },
  {
   "cell_type": "markdown",
   "id": "15d0948a",
   "metadata": {},
   "source": [
    "### Train a Random Forest Regressor model\n"
   ]
  },
  {
   "cell_type": "code",
   "execution_count": 47,
   "id": "e2abb7e1",
   "metadata": {},
   "outputs": [
    {
     "data": {
      "text/html": [
       "<style>#sk-container-id-4 {color: black;}#sk-container-id-4 pre{padding: 0;}#sk-container-id-4 div.sk-toggleable {background-color: white;}#sk-container-id-4 label.sk-toggleable__label {cursor: pointer;display: block;width: 100%;margin-bottom: 0;padding: 0.3em;box-sizing: border-box;text-align: center;}#sk-container-id-4 label.sk-toggleable__label-arrow:before {content: \"▸\";float: left;margin-right: 0.25em;color: #696969;}#sk-container-id-4 label.sk-toggleable__label-arrow:hover:before {color: black;}#sk-container-id-4 div.sk-estimator:hover label.sk-toggleable__label-arrow:before {color: black;}#sk-container-id-4 div.sk-toggleable__content {max-height: 0;max-width: 0;overflow: hidden;text-align: left;background-color: #f0f8ff;}#sk-container-id-4 div.sk-toggleable__content pre {margin: 0.2em;color: black;border-radius: 0.25em;background-color: #f0f8ff;}#sk-container-id-4 input.sk-toggleable__control:checked~div.sk-toggleable__content {max-height: 200px;max-width: 100%;overflow: auto;}#sk-container-id-4 input.sk-toggleable__control:checked~label.sk-toggleable__label-arrow:before {content: \"▾\";}#sk-container-id-4 div.sk-estimator input.sk-toggleable__control:checked~label.sk-toggleable__label {background-color: #d4ebff;}#sk-container-id-4 div.sk-label input.sk-toggleable__control:checked~label.sk-toggleable__label {background-color: #d4ebff;}#sk-container-id-4 input.sk-hidden--visually {border: 0;clip: rect(1px 1px 1px 1px);clip: rect(1px, 1px, 1px, 1px);height: 1px;margin: -1px;overflow: hidden;padding: 0;position: absolute;width: 1px;}#sk-container-id-4 div.sk-estimator {font-family: monospace;background-color: #f0f8ff;border: 1px dotted black;border-radius: 0.25em;box-sizing: border-box;margin-bottom: 0.5em;}#sk-container-id-4 div.sk-estimator:hover {background-color: #d4ebff;}#sk-container-id-4 div.sk-parallel-item::after {content: \"\";width: 100%;border-bottom: 1px solid gray;flex-grow: 1;}#sk-container-id-4 div.sk-label:hover label.sk-toggleable__label {background-color: #d4ebff;}#sk-container-id-4 div.sk-serial::before {content: \"\";position: absolute;border-left: 1px solid gray;box-sizing: border-box;top: 0;bottom: 0;left: 50%;z-index: 0;}#sk-container-id-4 div.sk-serial {display: flex;flex-direction: column;align-items: center;background-color: white;padding-right: 0.2em;padding-left: 0.2em;position: relative;}#sk-container-id-4 div.sk-item {position: relative;z-index: 1;}#sk-container-id-4 div.sk-parallel {display: flex;align-items: stretch;justify-content: center;background-color: white;position: relative;}#sk-container-id-4 div.sk-item::before, #sk-container-id-4 div.sk-parallel-item::before {content: \"\";position: absolute;border-left: 1px solid gray;box-sizing: border-box;top: 0;bottom: 0;left: 50%;z-index: -1;}#sk-container-id-4 div.sk-parallel-item {display: flex;flex-direction: column;z-index: 1;position: relative;background-color: white;}#sk-container-id-4 div.sk-parallel-item:first-child::after {align-self: flex-end;width: 50%;}#sk-container-id-4 div.sk-parallel-item:last-child::after {align-self: flex-start;width: 50%;}#sk-container-id-4 div.sk-parallel-item:only-child::after {width: 0;}#sk-container-id-4 div.sk-dashed-wrapped {border: 1px dashed gray;margin: 0 0.4em 0.5em 0.4em;box-sizing: border-box;padding-bottom: 0.4em;background-color: white;}#sk-container-id-4 div.sk-label label {font-family: monospace;font-weight: bold;display: inline-block;line-height: 1.2em;}#sk-container-id-4 div.sk-label-container {text-align: center;}#sk-container-id-4 div.sk-container {/* jupyter's `normalize.less` sets `[hidden] { display: none; }` but bootstrap.min.css set `[hidden] { display: none !important; }` so we also need the `!important` here to be able to override the default hidden behavior on the sphinx rendered scikit-learn.org. See: https://github.com/scikit-learn/scikit-learn/issues/21755 */display: inline-block !important;position: relative;}#sk-container-id-4 div.sk-text-repr-fallback {display: none;}</style><div id=\"sk-container-id-4\" class=\"sk-top-container\"><div class=\"sk-text-repr-fallback\"><pre>RandomForestRegressor(random_state=42)</pre><b>In a Jupyter environment, please rerun this cell to show the HTML representation or trust the notebook. <br />On GitHub, the HTML representation is unable to render, please try loading this page with nbviewer.org.</b></div><div class=\"sk-container\" hidden><div class=\"sk-item\"><div class=\"sk-estimator sk-toggleable\"><input class=\"sk-toggleable__control sk-hidden--visually\" id=\"sk-estimator-id-4\" type=\"checkbox\" checked><label for=\"sk-estimator-id-4\" class=\"sk-toggleable__label sk-toggleable__label-arrow\">RandomForestRegressor</label><div class=\"sk-toggleable__content\"><pre>RandomForestRegressor(random_state=42)</pre></div></div></div></div></div>"
      ],
      "text/plain": [
       "RandomForestRegressor(random_state=42)"
      ]
     },
     "execution_count": 47,
     "metadata": {},
     "output_type": "execute_result"
    }
   ],
   "source": [
    "regressor = RandomForestRegressor(random_state=42)\n",
    "regressor.fit(X_train, y_train)"
   ]
  },
  {
   "cell_type": "markdown",
   "id": "1ca8b64f",
   "metadata": {},
   "source": [
    "#### Make predictions using the trained regressor\n"
   ]
  },
  {
   "cell_type": "code",
   "execution_count": 48,
   "id": "dcab3681",
   "metadata": {},
   "outputs": [
    {
     "data": {
      "text/plain": [
       "array([630.2, 169.3, 600. , 600. , 398.1, 590. , 326.2, 510. , 500. ,\n",
       "       420. , 230. , 600. , 385.5, 440. , 449.9, 630.2, 429.3, 430. ,\n",
       "       360. , 239.1, 340. , 268.7, 239.9, 630.2, 264.4, 300. , 449.9,\n",
       "       170. , 250. , 513.6, 470.1, 600. , 268.7, 510. , 550.4, 268.7,\n",
       "       519.8, 630.2, 430. , 380. , 500. , 226.6, 440. , 230. , 170. ,\n",
       "       600. , 621.1, 170. ])"
      ]
     },
     "execution_count": 48,
     "metadata": {},
     "output_type": "execute_result"
    }
   ],
   "source": [
    "y_pred = regressor.predict(X_test)\n",
    "y_pred"
   ]
  },
  {
   "cell_type": "markdown",
   "id": "6387ab42",
   "metadata": {},
   "source": [
    "### Evaluate the model"
   ]
  },
  {
   "cell_type": "code",
   "execution_count": 49,
   "id": "b0531c4f",
   "metadata": {},
   "outputs": [
    {
     "name": "stdout",
     "output_type": "stream",
     "text": [
      "Mean Absolute Error: 2.0562500000000052\n",
      "Mean Squared Error: 39.930208333333304\n"
     ]
    }
   ],
   "source": [
    "\n",
    "print(\"Mean Absolute Error:\", mean_absolute_error(y_test, y_pred))\n",
    "print(\"Mean Squared Error:\", mean_squared_error(y_test, y_pred))"
   ]
  },
  {
   "cell_type": "markdown",
   "id": "e5449f9b",
   "metadata": {},
   "source": [
    "####  3: Customizing the Threshold for High Spenders\n"
   ]
  },
  {
   "cell_type": "code",
   "execution_count": 50,
   "id": "d6bb17f5",
   "metadata": {},
   "outputs": [],
   "source": [
    "threshold = df['purchase_amount'].quantile(0.75)  # 75th percentile\n",
    "df['high_spender'] = df['purchase_amount'].apply(lambda x: 1 if x > threshold else 0)\n"
   ]
  },
  {
   "cell_type": "code",
   "execution_count": 51,
   "id": "b2636dc9",
   "metadata": {},
   "outputs": [
    {
     "data": {
      "text/html": [
       "<div>\n",
       "<style scoped>\n",
       "    .dataframe tbody tr th:only-of-type {\n",
       "        vertical-align: middle;\n",
       "    }\n",
       "\n",
       "    .dataframe tbody tr th {\n",
       "        vertical-align: top;\n",
       "    }\n",
       "\n",
       "    .dataframe thead th {\n",
       "        text-align: right;\n",
       "    }\n",
       "</style>\n",
       "<table border=\"1\" class=\"dataframe\">\n",
       "  <thead>\n",
       "    <tr style=\"text-align: right;\">\n",
       "      <th></th>\n",
       "      <th>user_id</th>\n",
       "      <th>age</th>\n",
       "      <th>annual_income</th>\n",
       "      <th>purchase_amount</th>\n",
       "      <th>loyalty_score</th>\n",
       "      <th>region</th>\n",
       "      <th>purchase_frequency</th>\n",
       "      <th>high_spender</th>\n",
       "    </tr>\n",
       "  </thead>\n",
       "  <tbody>\n",
       "    <tr>\n",
       "      <th>0</th>\n",
       "      <td>1</td>\n",
       "      <td>25</td>\n",
       "      <td>45000</td>\n",
       "      <td>200</td>\n",
       "      <td>4.5</td>\n",
       "      <td>North</td>\n",
       "      <td>12</td>\n",
       "      <td>0</td>\n",
       "    </tr>\n",
       "    <tr>\n",
       "      <th>1</th>\n",
       "      <td>2</td>\n",
       "      <td>34</td>\n",
       "      <td>55000</td>\n",
       "      <td>350</td>\n",
       "      <td>7.0</td>\n",
       "      <td>South</td>\n",
       "      <td>18</td>\n",
       "      <td>0</td>\n",
       "    </tr>\n",
       "    <tr>\n",
       "      <th>2</th>\n",
       "      <td>3</td>\n",
       "      <td>45</td>\n",
       "      <td>65000</td>\n",
       "      <td>500</td>\n",
       "      <td>8.0</td>\n",
       "      <td>West</td>\n",
       "      <td>22</td>\n",
       "      <td>0</td>\n",
       "    </tr>\n",
       "    <tr>\n",
       "      <th>3</th>\n",
       "      <td>4</td>\n",
       "      <td>22</td>\n",
       "      <td>30000</td>\n",
       "      <td>150</td>\n",
       "      <td>3.0</td>\n",
       "      <td>East</td>\n",
       "      <td>10</td>\n",
       "      <td>0</td>\n",
       "    </tr>\n",
       "    <tr>\n",
       "      <th>4</th>\n",
       "      <td>5</td>\n",
       "      <td>29</td>\n",
       "      <td>47000</td>\n",
       "      <td>220</td>\n",
       "      <td>4.8</td>\n",
       "      <td>North</td>\n",
       "      <td>13</td>\n",
       "      <td>0</td>\n",
       "    </tr>\n",
       "    <tr>\n",
       "      <th>...</th>\n",
       "      <td>...</td>\n",
       "      <td>...</td>\n",
       "      <td>...</td>\n",
       "      <td>...</td>\n",
       "      <td>...</td>\n",
       "      <td>...</td>\n",
       "      <td>...</td>\n",
       "      <td>...</td>\n",
       "    </tr>\n",
       "    <tr>\n",
       "      <th>233</th>\n",
       "      <td>234</td>\n",
       "      <td>40</td>\n",
       "      <td>60000</td>\n",
       "      <td>450</td>\n",
       "      <td>7.2</td>\n",
       "      <td>West</td>\n",
       "      <td>20</td>\n",
       "      <td>0</td>\n",
       "    </tr>\n",
       "    <tr>\n",
       "      <th>234</th>\n",
       "      <td>235</td>\n",
       "      <td>38</td>\n",
       "      <td>59000</td>\n",
       "      <td>430</td>\n",
       "      <td>6.9</td>\n",
       "      <td>North</td>\n",
       "      <td>20</td>\n",
       "      <td>0</td>\n",
       "    </tr>\n",
       "    <tr>\n",
       "      <th>235</th>\n",
       "      <td>236</td>\n",
       "      <td>54</td>\n",
       "      <td>74000</td>\n",
       "      <td>630</td>\n",
       "      <td>9.4</td>\n",
       "      <td>South</td>\n",
       "      <td>27</td>\n",
       "      <td>1</td>\n",
       "    </tr>\n",
       "    <tr>\n",
       "      <th>236</th>\n",
       "      <td>237</td>\n",
       "      <td>32</td>\n",
       "      <td>52000</td>\n",
       "      <td>360</td>\n",
       "      <td>5.8</td>\n",
       "      <td>West</td>\n",
       "      <td>18</td>\n",
       "      <td>0</td>\n",
       "    </tr>\n",
       "    <tr>\n",
       "      <th>237</th>\n",
       "      <td>238</td>\n",
       "      <td>31</td>\n",
       "      <td>51000</td>\n",
       "      <td>340</td>\n",
       "      <td>5.6</td>\n",
       "      <td>North</td>\n",
       "      <td>17</td>\n",
       "      <td>0</td>\n",
       "    </tr>\n",
       "  </tbody>\n",
       "</table>\n",
       "<p>238 rows × 8 columns</p>\n",
       "</div>"
      ],
      "text/plain": [
       "     user_id  age  annual_income  purchase_amount  loyalty_score region  \\\n",
       "0          1   25          45000              200            4.5  North   \n",
       "1          2   34          55000              350            7.0  South   \n",
       "2          3   45          65000              500            8.0   West   \n",
       "3          4   22          30000              150            3.0   East   \n",
       "4          5   29          47000              220            4.8  North   \n",
       "..       ...  ...            ...              ...            ...    ...   \n",
       "233      234   40          60000              450            7.2   West   \n",
       "234      235   38          59000              430            6.9  North   \n",
       "235      236   54          74000              630            9.4  South   \n",
       "236      237   32          52000              360            5.8   West   \n",
       "237      238   31          51000              340            5.6  North   \n",
       "\n",
       "     purchase_frequency  high_spender  \n",
       "0                    12             0  \n",
       "1                    18             0  \n",
       "2                    22             0  \n",
       "3                    10             0  \n",
       "4                    13             0  \n",
       "..                  ...           ...  \n",
       "233                  20             0  \n",
       "234                  20             0  \n",
       "235                  27             1  \n",
       "236                  18             0  \n",
       "237                  17             0  \n",
       "\n",
       "[238 rows x 8 columns]"
      ]
     },
     "execution_count": 51,
     "metadata": {},
     "output_type": "execute_result"
    }
   ],
   "source": [
    "df"
   ]
  },
  {
   "cell_type": "code",
   "execution_count": 52,
   "id": "60d50ee7",
   "metadata": {},
   "outputs": [
    {
     "data": {
      "text/plain": [
       "user_id                 124.750000\n",
       "age                      51.066667\n",
       "annual_income         71066.666667\n",
       "purchase_amount         601.500000\n",
       "loyalty_score             9.053333\n",
       "purchase_frequency       25.466667\n",
       "high_spender              1.000000\n",
       "dtype: float64"
      ]
     },
     "execution_count": 52,
     "metadata": {},
     "output_type": "execute_result"
    }
   ],
   "source": [
    "df[df['high_spender'] == 1].select_dtypes(include='number').mean()\n"
   ]
  },
  {
   "cell_type": "code",
   "execution_count": 53,
   "id": "1b0fe002",
   "metadata": {},
   "outputs": [
    {
     "name": "stdout",
     "output_type": "stream",
     "text": [
      "    user_id  age  annual_income  purchase_amount  loyalty_score region  \\\n",
      "0         1   25          45000              200            4.5  North   \n",
      "1         2   34          55000              350            7.0  South   \n",
      "2         3   45          65000              500            8.0   West   \n",
      "3         4   22          30000              150            3.0   East   \n",
      "4         5   29          47000              220            4.8  North   \n",
      "5         6   41          61000              480            7.8  South   \n",
      "6         7   36          54000              400            6.5   West   \n",
      "7         8   27          43000              230            4.2   East   \n",
      "8         9   50          70000              600            9.0  North   \n",
      "9        10   31          50000              320            5.5  South   \n",
      "10       11   28          46000              250            4.4   West   \n",
      "11       12   42          62000              520            8.2  North   \n",
      "12       13   33          53000              380            6.0  South   \n",
      "13       14   37          58000              420            6.8   East   \n",
      "14       15   49          69000              590            8.9   West   \n",
      "15       16   23          31000              160            3.2  North   \n",
      "16       17   39          57000              440            7.0  South   \n",
      "17       18   30          49000              300            5.0   West   \n",
      "18       19   46          66000              510            8.1  North   \n",
      "19       20   26          44000              240            4.3   East   \n",
      "20       21   52          72000              610            9.2  South   \n",
      "21       22   24          32000              170            3.3   West   \n",
      "22       23   44          63000              460            7.5  North   \n",
      "23       24   35          56000              390            6.2  South   \n",
      "24       25   38          59000              430            6.9   East   \n",
      "25       26   47          67000              530            8.3   West   \n",
      "26       27   32          52000              360            5.8  North   \n",
      "27       28   29          48000              280            4.6  South   \n",
      "28       29   51          71000              600            9.0   West   \n",
      "29       30   40          60000              450            7.2   East   \n",
      "\n",
      "    purchase_frequency  high_spender  \n",
      "0                   12             0  \n",
      "1                   18             0  \n",
      "2                   22             0  \n",
      "3                   10             0  \n",
      "4                   13             0  \n",
      "5                   21             0  \n",
      "6                   19             0  \n",
      "7                   14             0  \n",
      "8                   25             1  \n",
      "9                   17             0  \n",
      "10                  15             0  \n",
      "11                  23             0  \n",
      "12                  18             0  \n",
      "13                  20             0  \n",
      "14                  24             1  \n",
      "15                  11             0  \n",
      "16                  21             0  \n",
      "17                  16             0  \n",
      "18                  22             0  \n",
      "19                  14             0  \n",
      "20                  26             1  \n",
      "21                  12             0  \n",
      "22                  21             0  \n",
      "23                  19             0  \n",
      "24                  20             0  \n",
      "25                  23             1  \n",
      "26                  18             0  \n",
      "27                  15             0  \n",
      "28                  25             1  \n",
      "29                  22             0  \n"
     ]
    }
   ],
   "source": [
    "# Create DataFrame\n",
    "df2 = pd.DataFrame(df)\n",
    "\n",
    "# Calculate the 75th percentile threshold for purchase_amount\n",
    "threshold = df['purchase_amount'].quantile(0.75)  # 75th percentile\n",
    "\n",
    "# Create a new column 'high_spender' based on the purchase_amount and threshold\n",
    "df['high_spender'] = df['purchase_amount'].apply(lambda x: 1 if x > threshold else 0)\n",
    "\n",
    "# Print the resulting DataFrame\n",
    "print(df.head(30))"
   ]
  },
  {
   "cell_type": "code",
   "execution_count": 55,
   "id": "61e04b06",
   "metadata": {},
   "outputs": [
    {
     "name": "stdout",
     "output_type": "stream",
     "text": [
      " user_id  age  annual_income  purchase_amount  loyalty_score region  purchase_frequency  high_spender\n",
      "       1   25          45000              200            4.5  North                  12             0\n",
      "       2   34          55000              350            7.0  South                  18             0\n",
      "       3   45          65000              500            8.0   West                  22             0\n",
      "       4   22          30000              150            3.0   East                  10             0\n",
      "       5   29          47000              220            4.8  North                  13             0\n",
      "       6   41          61000              480            7.8  South                  21             0\n",
      "       7   36          54000              400            6.5   West                  19             0\n",
      "       8   27          43000              230            4.2   East                  14             0\n",
      "       9   50          70000              600            9.0  North                  25             1\n",
      "      10   31          50000              320            5.5  South                  17             0\n",
      "      11   28          46000              250            4.4   West                  15             0\n",
      "      12   42          62000              520            8.2  North                  23             0\n",
      "      13   33          53000              380            6.0  South                  18             0\n",
      "      14   37          58000              420            6.8   East                  20             0\n",
      "      15   49          69000              590            8.9   West                  24             1\n",
      "      16   23          31000              160            3.2  North                  11             0\n",
      "      17   39          57000              440            7.0  South                  21             0\n",
      "      18   30          49000              300            5.0   West                  16             0\n",
      "      19   46          66000              510            8.1  North                  22             0\n",
      "      20   26          44000              240            4.3   East                  14             0\n",
      "      21   52          72000              610            9.2  South                  26             1\n",
      "      22   24          32000              170            3.3   West                  12             0\n",
      "      23   44          63000              460            7.5  North                  21             0\n",
      "      24   35          56000              390            6.2  South                  19             0\n",
      "      25   38          59000              430            6.9   East                  20             0\n",
      "      26   47          67000              530            8.3   West                  23             1\n",
      "      27   32          52000              360            5.8  North                  18             0\n",
      "      28   29          48000              280            4.6  South                  15             0\n",
      "      29   51          71000              600            9.0   West                  25             1\n",
      "      30   40          60000              450            7.2   East                  22             0\n"
     ]
    }
   ],
   "source": [
    "import pandas as pd\n",
    "\n",
    "# Create DataFrame\n",
    "df2 = pd.DataFrame(df)\n",
    "\n",
    "# Calculate the 75th percentile threshold for purchase_amount\n",
    "threshold = df['purchase_amount'].quantile(0.75)\n",
    "\n",
    "# Create a new column 'high_spender'\n",
    "df['high_spender'] = df['purchase_amount'].apply(lambda x: 1 if x > threshold else 0)\n",
    "\n",
    "# Print first 30 rows in one line\n",
    "print(df.head(30).to_string(index=False, line_width=100000))\n"
   ]
  },
  {
   "cell_type": "code",
   "execution_count": null,
   "id": "8d3fe302",
   "metadata": {},
   "outputs": [],
   "source": []
  },
  {
   "cell_type": "code",
   "execution_count": null,
   "id": "b1e431b2",
   "metadata": {},
   "outputs": [],
   "source": []
  }
 ],
 "metadata": {
  "kernelspec": {
   "display_name": "Python 3 (ipykernel)",
   "language": "python",
   "name": "python3"
  },
  "language_info": {
   "codemirror_mode": {
    "name": "ipython",
    "version": 3
   },
   "file_extension": ".py",
   "mimetype": "text/x-python",
   "name": "python",
   "nbconvert_exporter": "python",
   "pygments_lexer": "ipython3",
   "version": "3.11.5"
  }
 },
 "nbformat": 4,
 "nbformat_minor": 5
}
